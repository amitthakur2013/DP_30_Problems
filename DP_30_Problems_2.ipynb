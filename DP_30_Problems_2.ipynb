{
  "nbformat": 4,
  "nbformat_minor": 0,
  "metadata": {
    "colab": {
      "name": "DP_30_Problems.ipynb",
      "provenance": [],
      "collapsed_sections": [],
      "authorship_tag": "ABX9TyNgnmyWWKSJWs9ShHPGzsOU",
      "include_colab_link": true
    },
    "kernelspec": {
      "name": "python3",
      "display_name": "Python 3"
    }
  },
  "cells": [
    {
      "cell_type": "markdown",
      "metadata": {
        "id": "view-in-github",
        "colab_type": "text"
      },
      "source": [
        "<a href=\"https://colab.research.google.com/github/amitthakur2013/DP_30_Problems/blob/master/DP_30_Problems_2.ipynb\" target=\"_parent\"><img src=\"https://colab.research.google.com/assets/colab-badge.svg\" alt=\"Open In Colab\"/></a>"
      ]
    },
    {
      "cell_type": "code",
      "metadata": {
        "id": "NmtH_zXLIwxj",
        "colab_type": "code",
        "colab": {
          "base_uri": "https://localhost:8080/",
          "height": 51
        },
        "outputId": "6cc09122-1146-4ffd-a50c-1754de6d4701"
      },
      "source": [
        "#UGLY numbers\n",
        "\n",
        "n=int(input())\n",
        "dp=[0 for _ in range(n)]\n",
        "dp[0]=1\n",
        "i2=i3=i5=0\n",
        "for i in range(1,n):\n",
        "  a=dp[i2]*2\n",
        "  b=dp[i3]*3\n",
        "  c=dp[i5]*5\n",
        "  dp[i]=min(a,b,c)\n",
        "  if dp[i]==a:\n",
        "    i2+=1\n",
        "  if dp[i]==b:\n",
        "    i3+=1\n",
        "  if dp[i]==c:\n",
        "    i5+=1\n",
        "print(dp)"
      ],
      "execution_count": 4,
      "outputs": [
        {
          "output_type": "stream",
          "text": [
            "10\n",
            "[1, 2, 3, 4, 5, 6, 8, 9, 10, 12]\n"
          ],
          "name": "stdout"
        }
      ]
    },
    {
      "cell_type": "code",
      "metadata": {
        "id": "orgjYCm0gFo9",
        "colab_type": "code",
        "colab": {
          "base_uri": "https://localhost:8080/",
          "height": 51
        },
        "outputId": "29bdfd53-c9e6-4241-fae0-31415f5c0cbb"
      },
      "source": [
        "#Catalan Number\n",
        "n=int(input())\n",
        "dp=[0 for _ in range(n)]\n",
        "dp[0]=dp[1]=1\n",
        "for i in range(2,n):\n",
        "  for j in range(0,i):\n",
        "    dp[i]+=dp[j]*dp[i-j-1]\n",
        "print(dp[n-1])"
      ],
      "execution_count": 4,
      "outputs": [
        {
          "output_type": "stream",
          "text": [
            "4\n",
            "5\n"
          ],
          "name": "stdout"
        }
      ]
    },
    {
      "cell_type": "code",
      "metadata": {
        "id": "I7yBjDoy6_lT",
        "colab_type": "code",
        "colab": {
          "base_uri": "https://localhost:8080/",
          "height": 51
        },
        "outputId": "f7447f96-8291-4973-b733-ab49a3a172f1"
      },
      "source": [
        "#No of ways to partition a set into k subsets\n",
        "\n",
        "n,k=map(int,input().split())\n",
        "dp=[[0 for _ in range(k+1)]for __ in range(n+1)]\n",
        "#print(dp)\n",
        "for i in range(1,n+1):\n",
        "  for j in range(1,k+1):\n",
        "    if j==1 or i==j:\n",
        "      dp[i][j]=1\n",
        "\n",
        "    else:\n",
        "      dp[i][j]=j*dp[i-1][j]+dp[i-1][j-1]\n",
        "print(dp[n][k])\n"
      ],
      "execution_count": 9,
      "outputs": [
        {
          "output_type": "stream",
          "text": [
            "4 3\n",
            "6\n"
          ],
          "name": "stdout"
        }
      ]
    },
    {
      "cell_type": "code",
      "metadata": {
        "id": "rgXWFAfyJdUc",
        "colab_type": "code",
        "colab": {}
      },
      "source": [
        "# Subset sum problem\n",
        "\n",
        "set=list(map(int,input().split()))\n",
        "sum=int(input())\n",
        "n=len(set)\n",
        "subset =([[False for i in range(sum + 1)]  \n",
        "        for i in range(n + 1)]) \n",
        "  \n",
        "# If sum is 0, then answer is true  \n",
        "for i in range(n + 1): \n",
        "    subset[i][0] = True\n",
        "      \n",
        "# If sum is not 0 and set is empty,  \n",
        "# then answer is false  \n",
        "for i in range(1, sum + 1): \n",
        "      subset[0][i]= False\n",
        "          \n",
        "# Fill the subset table in botton up manner \n",
        "for i in range(1, n + 1): \n",
        "    for j in range(1, sum + 1): \n",
        "        if j<set[i-1]: \n",
        "            subset[i][j] = subset[i-1][j] \n",
        "        if j>= set[i-1]: \n",
        "            subset[i][j] = (subset[i-1][j] or \n",
        "                            subset[i - 1][j-set[i-1]]) \n",
        "            \n",
        "print(subset[n][sum]) "
      ],
      "execution_count": 0,
      "outputs": []
    },
    {
      "cell_type": "code",
      "metadata": {
        "id": "WhRvl2R8avv1",
        "colab_type": "code",
        "colab": {
          "base_uri": "https://localhost:8080/",
          "height": 34
        },
        "outputId": "05079900-7402-4fc0-fadd-2a4dc62ba2fa"
      },
      "source": [
        "import random\n",
        "print(random.randint(0,6))"
      ],
      "execution_count": 8,
      "outputs": [
        {
          "output_type": "stream",
          "text": [
            "6\n"
          ],
          "name": "stdout"
        }
      ]
    },
    {
      "cell_type": "code",
      "metadata": {
        "id": "wzsjfgpCXdZQ",
        "colab_type": "code",
        "colab": {}
      },
      "source": [
        "#Burst Balloon\n",
        "link:-https://leetcode.com/problems/burst-balloons/submissions/"
      ],
      "execution_count": 0,
      "outputs": []
    },
    {
      "cell_type": "code",
      "metadata": {
        "id": "V6BnNP42S1nw",
        "colab_type": "code",
        "colab": {}
      },
      "source": [
        "def dfs(s,g,vis):\n",
        "  vis[s]=True\n",
        "  print(s,end=\" \")\n",
        "  for i in g[s]:\n",
        "    if vis[i]==False:\n",
        "      dfs(i,g,vis)"
      ],
      "execution_count": 0,
      "outputs": []
    },
    {
      "cell_type": "code",
      "metadata": {
        "id": "S4ZxEAQzhBun",
        "colab_type": "code",
        "colab": {}
      },
      "source": [
        "def bfs(s,g,vis):\n",
        "  q=[]\n",
        "  q.append(s)\n",
        "  vis[s]=True\n",
        "  \n",
        "  while len(q)!=0:\n",
        "    curr=q.pop(0)\n",
        "    print(curr,end=\" \")\n",
        "    for i in g[curr]:\n",
        "      if vis[i]==False:\n",
        "        q.append(i)\n",
        "        vis[i]=True"
      ],
      "execution_count": 0,
      "outputs": []
    },
    {
      "cell_type": "code",
      "metadata": {
        "id": "0zePXeFndQ2y",
        "colab_type": "code",
        "colab": {}
      },
      "source": [
        "N,E=map(int,input().split())\n",
        "vis=[False for _ in range(N)]\n",
        "g=[[] for __ in range(N)]\n",
        "for i in range(E):\n",
        "  u,v=map(int,input().split())\n",
        "  g[u].append(v)\n",
        "  g[v].append(u)\n",
        "# check bfs and dfs function individually"
      ],
      "execution_count": 0,
      "outputs": []
    },
    {
      "cell_type": "code",
      "metadata": {
        "id": "O7JT-Vwld9J7",
        "colab_type": "code",
        "colab": {}
      },
      "source": [
        "# Detecting cycle in a graph\n",
        "\n",
        "def isCyclic_util(g,visited,curr):\n",
        "  if visited[curr] == True:\n",
        "    return True\n",
        "  visited[curr]=True\n",
        "  FLAG=False\n",
        "  for i in g[curr]:\n",
        "    FLAG=isCyclic_util(g,visited,i)\n",
        "    if(FLAG == True):\n",
        "      return True\n",
        "  return False\n",
        "\n",
        "def isCyclic(V,g):\n",
        "  visited=[False for _ in range(V)]\n",
        "  FLAG=False\n",
        "  for i in range(V):\n",
        "    visited[i]=True\n",
        "    for j in g[i]:\n",
        "      FLAG=isCyclic_util(g,visited,j)\n",
        "      if FLAG==True:\n",
        "        return True\n",
        "    visited[i]=False\n",
        "  return False\n"
      ],
      "execution_count": 0,
      "outputs": []
    },
    {
      "cell_type": "code",
      "metadata": {
        "id": "KXlMcxmfcY3t",
        "colab_type": "code",
        "colab": {
          "base_uri": "https://localhost:8080/",
          "height": 85
        },
        "outputId": "1f48494c-0efc-47ca-c851-cc932af880a7"
      },
      "source": [
        "N,E=map(int,input().split())\n",
        "vis=[False for _ in range(N)]\n",
        "g=[[] for __ in range(N)]\n",
        "for i in range(E):\n",
        "  u,v=map(int,input().split())\n",
        "  g[u].append(v)\n",
        "  #g[v].append(u)"
      ],
      "execution_count": 13,
      "outputs": [
        {
          "output_type": "stream",
          "text": [
            "3 3\n",
            "0 1\n",
            "1 2\n",
            "2 0\n"
          ],
          "name": "stdout"
        }
      ]
    },
    {
      "cell_type": "code",
      "metadata": {
        "id": "cbjE66j-chjc",
        "colab_type": "code",
        "colab": {}
      },
      "source": [
        "isCyclic(N,g)"
      ],
      "execution_count": 0,
      "outputs": []
    },
    {
      "cell_type": "code",
      "metadata": {
        "id": "6Jwm6S8mct_P",
        "colab_type": "code",
        "colab": {}
      },
      "source": [
        "#Cycle detection of undirected graph \n",
        "\n",
        "def isCyclic_util(g, visited, curr):\n",
        "  if visited[curr]==2:\n",
        "    return True\n",
        "\n",
        "  visited[curr]=1\n",
        "  FLAG=False\n",
        "  for i in g[curr]:\n",
        "    if visited[i] == 1:\n",
        "      visited[i]=2\n",
        "    else:\n",
        "      FLAG= isCyclic_util(g,visited,i)\n",
        "      if (FLAG == True):\n",
        "        return True\n",
        "  return False\n",
        "\n",
        "def isCyclic(g,V):\n",
        "  visited=[False for _ in range(V)]\n",
        "  FLAG=False\n",
        "  for i in range(V):\n",
        "    visited[i]=1\n",
        "    for j in g[i]:\n",
        "      FLAG=isCyclic_util(g, visited, j )\n",
        "      if FLAG==True:\n",
        "        return True\n",
        "    visited[i]=0\n",
        "  return False\n"
      ],
      "execution_count": 0,
      "outputs": []
    },
    {
      "cell_type": "code",
      "metadata": {
        "id": "_pSxF_aNoP0l",
        "colab_type": "code",
        "colab": {
          "base_uri": "https://localhost:8080/",
          "height": 85
        },
        "outputId": "8c9846bc-b278-44fc-c5b6-aefce7699e76"
      },
      "source": [
        "N,E=map(int,input().split())\n",
        "vis=[False for _ in range(N)]\n",
        "g=[[] for __ in range(N)]\n",
        "for i in range(E):\n",
        "  u,v=map(int,input().split())\n",
        "  g[u].append(v)\n",
        "  g[v].append(u)"
      ],
      "execution_count": 22,
      "outputs": [
        {
          "output_type": "stream",
          "text": [
            "3 3\n",
            "0 1\n",
            "0 2\n",
            "1 2\n"
          ],
          "name": "stdout"
        }
      ]
    },
    {
      "cell_type": "code",
      "metadata": {
        "id": "DthxYKyxoTlm",
        "colab_type": "code",
        "colab": {
          "base_uri": "https://localhost:8080/",
          "height": 34
        },
        "outputId": "5d18ed72-46d1-419c-b66a-f76cd6237819"
      },
      "source": [
        "isCyclic(g,N)"
      ],
      "execution_count": 23,
      "outputs": [
        {
          "output_type": "execute_result",
          "data": {
            "text/plain": [
              "True"
            ]
          },
          "metadata": {
            "tags": []
          },
          "execution_count": 23
        }
      ]
    },
    {
      "cell_type": "code",
      "metadata": {
        "id": "FJOARhI8oi0n",
        "colab_type": "code",
        "colab": {
          "base_uri": "https://localhost:8080/",
          "height": 51
        },
        "outputId": "b8bc0ab8-2e70-4a4a-c375-8698c8658e38"
      },
      "source": [
        "s1,s2=map(str,input().split())\n",
        "dp=[[0 for _ in range(len(s1)+1)]for __ in range(len(s2)+1)]\n",
        "\n",
        "for i in range(len(s2)+1):\n",
        "  dp[i][0]=i\n",
        "\n",
        "for i in range(len(s1)+1):\n",
        "  dp[0][i]=i\n",
        "\n",
        "for i in range(1,len(s2)+1):\n",
        "  for j in range(1,len(s1)+1):\n",
        "    if s2[i-1]!=s1[j-1]:\n",
        "      dp[i][j]=min(dp[i-1][j],dp[i][j-1],dp[i-1][j-1])+1\n",
        "    else:\n",
        "      dp[i][j]=dp[i-1][j-1]\n",
        "print(dp[len(s2)][len(s1)])\n"
      ],
      "execution_count": 4,
      "outputs": [
        {
          "output_type": "stream",
          "text": [
            "benyam ephrem\n",
            "5\n"
          ],
          "name": "stdout"
        }
      ]
    },
    {
      "cell_type": "code",
      "metadata": {
        "id": "pxowk-I3G2AS",
        "colab_type": "code",
        "colab": {
          "base_uri": "https://localhost:8080/",
          "height": 68
        },
        "outputId": "7cfa338f-aab6-4706-a16e-d46c84daa723"
      },
      "source": [
        "# Divide an array of size N into k subarrays such that the sum of max valued subarray is minimum\n",
        "import math\n",
        "N,K=map(int,input().split())\n",
        "paintings=list(map(int,input().split()))\n",
        "dp=[[0 for _ in range(N+1)]for __ in range(K+1)]\n",
        "for i in range(1,N+1):\n",
        "  dp[1][i]=dp[1][i-1]+paintings[i-1]\n",
        "for i in range(1,K+1):\n",
        "  dp[i][1]=paintings[0]\n",
        "for i in range(2,K+1):\n",
        "  for j in range(2,N+1):\n",
        "    best=math.inf\n",
        "    for p in range(1,j+1):\n",
        "      best=min(best,max(dp[i-1][p],sum(paintings[p:j])))\n",
        "    dp[i][j]=best\n",
        "print(dp[K][N])"
      ],
      "execution_count": 5,
      "outputs": [
        {
          "output_type": "stream",
          "text": [
            "6 3\n",
            "10 40 20 30 40 50\n",
            "70\n"
          ],
          "name": "stdout"
        }
      ]
    },
    {
      "cell_type": "code",
      "metadata": {
        "id": "JPSUnbbWlsZT",
        "colab_type": "code",
        "colab": {
          "base_uri": "https://localhost:8080/",
          "height": 51
        },
        "outputId": "2be3b180-0b6c-4a21-f6de-cd6880940e42"
      },
      "source": [
        "def wine(arr,i,j,y):\n",
        "  if i>j:\n",
        "    return 0\n",
        "  return max(arr[i]*y+wine(arr,i+1,j,y+1),arr[j]*y+wine(arr,i,j-1,y+1))\n",
        "arr=list(map(int,input().split()))\n",
        "print(wine(arr,0,len(arr)-1,1))"
      ],
      "execution_count": 8,
      "outputs": [
        {
          "output_type": "stream",
          "text": [
            "2 3 5 1 4\n",
            "50\n"
          ],
          "name": "stdout"
        }
      ]
    },
    {
      "cell_type": "code",
      "metadata": {
        "id": "4kw72OQqlyoS",
        "colab_type": "code",
        "colab": {
          "base_uri": "https://localhost:8080/",
          "height": 85
        },
        "outputId": "ae5c532a-58c0-4c42-a5cd-1e18e1c0e9d3"
      },
      "source": [
        "#0/1 Knapsack problem\n",
        "wt=list(map(int,input().split()))\n",
        "val=list(map(int,input().split()))\n",
        "n=len(val)\n",
        "W=int(input())\n",
        "dp=[[0 for _ in range(W+1)]for __ in range(n+1)]\n",
        "for i in range(1,n+1):\n",
        "  for j in range(1,W+1):\n",
        "    if wt[i-1] <= j:\n",
        "      dp[i][j]=max(val[i-1]+dp[i-1][j-wt[i-1]],dp[i-1][j])\n",
        "    else:\n",
        "      dp[i][j]=dp[i-1][j]\n",
        "print(dp[n][W])"
      ],
      "execution_count": 1,
      "outputs": [
        {
          "output_type": "stream",
          "text": [
            "10 20 30\n",
            "60 100 120\n",
            "50\n",
            "220\n"
          ],
          "name": "stdout"
        }
      ]
    },
    {
      "cell_type": "code",
      "metadata": {
        "id": "HOMUgK6f90ZT",
        "colab_type": "code",
        "colab": {
          "base_uri": "https://localhost:8080/",
          "height": 34
        },
        "outputId": "88619f2d-3d43-41db-e4b9-f8ef213c7235"
      },
      "source": [
        "def subset_sum(arr,sum,n,i):\n",
        "  if sum==0:\n",
        "    return True\n",
        "\n",
        "  if i==n:\n",
        "    return False\n",
        "  \n",
        "  return (subset_sum(arr,sum-arr[i],n,i+1) or subset_sum(arr,sum,n,i+1))\n",
        "\n",
        "arr=[2,3,8,10]\n",
        "sum=6\n",
        "n=4\n",
        "i=0\n",
        "print(subset_sum(arr,sum,n,i))\n"
      ],
      "execution_count": 21,
      "outputs": [
        {
          "output_type": "stream",
          "text": [
            "False\n"
          ],
          "name": "stdout"
        }
      ]
    },
    {
      "cell_type": "code",
      "metadata": {
        "id": "iHDB7udAI1_k",
        "colab_type": "code",
        "colab": {
          "base_uri": "https://localhost:8080/",
          "height": 85
        },
        "outputId": "3c5190c1-7ba0-482b-c8ba-95ec48a1ce4d"
      },
      "source": [
        "#Subset sum\n",
        "n=int(input())\n",
        "arr=list(map(int,input().split()))\n",
        "sum=int(input())\n",
        "dp=[[False for _ in range(sum+1)]for __ in range(n+1)]\n",
        "for i in range(n+1):\n",
        "  dp[i][0]=True \n",
        "\n",
        "for i in range(1,n+1):\n",
        "  for j in range(1,sum+1):\n",
        "    if arr[i-1]>j:\n",
        "      dp[i][j]=dp[i-1][j]\n",
        "    else:\n",
        "      dp[i][j]=dp[i-1][j-arr[i-1]] or dp[i-1][j]\n",
        "print(dp[n][sum])\n"
      ],
      "execution_count": 38,
      "outputs": [
        {
          "output_type": "stream",
          "text": [
            "2\n",
            "2 3\n",
            "5\n",
            "True\n"
          ],
          "name": "stdout"
        }
      ]
    },
    {
      "cell_type": "code",
      "metadata": {
        "id": "NuAcc7prNz59",
        "colab_type": "code",
        "colab": {}
      },
      "source": [
        "#Partition into two subsets such that the sum is equal\n",
        "class Solution:\n",
        "    def canPartition(self, nums: List[int]) -> bool:\n",
        "        if len(nums)==0:\n",
        "            return\n",
        "        if sum(nums)%2!=0:\n",
        "            return False\n",
        "        sum1=sum(nums)//2\n",
        "        dp=[[False for _ in range(sum1+1)]for __ in range(len(nums)+1)]\n",
        "        for i in range(len(nums)+1):\n",
        "            dp[i][0]=True\n",
        "        n=len(nums)\n",
        "        for i in range(1,n+1):\n",
        "            for j in range(1,sum1+1):\n",
        "                if nums[i-1]>j:\n",
        "                    dp[i][j]=dp[i-1][j]\n",
        "                else:\n",
        "                    dp[i][j]=dp[i-1][j-nums[i-1]] or dp[i-1][j]\n",
        "        return(dp[n][sum1])"
      ],
      "execution_count": 0,
      "outputs": []
    },
    {
      "cell_type": "code",
      "metadata": {
        "id": "AYxikxy_XGQr",
        "colab_type": "code",
        "colab": {
          "base_uri": "https://localhost:8080/",
          "height": 85
        },
        "outputId": "41eb116f-be22-43c2-e347-61251e74c87c"
      },
      "source": [
        "#count of subsetsum:\n",
        "n=int(input())\n",
        "arr=list(map(int,input().split()))\n",
        "sum=int(input())\n",
        "dp=[[0 for _ in range(sum+1)]for __ in range(n+1)]\n",
        "for i in range(n+1):\n",
        "  dp[i][0]=1\n",
        "\n",
        "for i in range(1,n+1):\n",
        "  for j in range(1,sum+1):\n",
        "    if arr[i-1]>j:\n",
        "      dp[i][j]=dp[i-1][j]\n",
        "    else:\n",
        "      dp[i][j]=dp[i-1][j-arr[i-1]] + dp[i-1][j]\n",
        "print(dp[n][sum])"
      ],
      "execution_count": 43,
      "outputs": [
        {
          "output_type": "stream",
          "text": [
            "4\n",
            "2 3 8 11\n",
            "5\n",
            "1\n"
          ],
          "name": "stdout"
        }
      ]
    },
    {
      "cell_type": "code",
      "metadata": {
        "id": "zNY1QZ2mfAEi",
        "colab_type": "code",
        "colab": {}
      },
      "source": [
        "#Minimum Subset sum difference\n",
        " "
      ],
      "execution_count": 0,
      "outputs": []
    },
    {
      "cell_type": "code",
      "metadata": {
        "id": "iPlSPsbKe1As",
        "colab_type": "code",
        "colab": {
          "base_uri": "https://localhost:8080/",
          "height": 85
        },
        "outputId": "a76e68bf-b4b8-4594-c724-6cac53d8f8f9"
      },
      "source": [
        "#count subset with given difference\n",
        "n=int(input())\n",
        "arr=list(map(int,input().split()))\n",
        "diff=int(input())\n",
        "sum1=(sum(arr)+diff)//2\n",
        "dp=[[0 for _ in range(sum1+1)]for __ in range(n+1)]\n",
        "for i in range(n+1):\n",
        "  dp[i][0]=1 \n",
        "\n",
        "for i in range(1,n+1):\n",
        "  for j in range(1,sum1+1):\n",
        "    if arr[i-1]>j:\n",
        "      dp[i][j]=dp[i-1][j]\n",
        "    else:\n",
        "      dp[i][j]=dp[i-1][j-arr[i-1]] + dp[i-1][j]\n",
        "print(dp[n][sum1])\n"
      ],
      "execution_count": 7,
      "outputs": [
        {
          "output_type": "stream",
          "text": [
            "4\n",
            "1 1 2 3\n",
            "1\n",
            "3\n"
          ],
          "name": "stdout"
        }
      ]
    },
    {
      "cell_type": "code",
      "metadata": {
        "id": "ZH0PxcFHhra6",
        "colab_type": "code",
        "colab": {
          "base_uri": "https://localhost:8080/",
          "height": 102
        },
        "outputId": "583e580f-8175-42c9-bbea-87b2adc53481"
      },
      "source": [
        "#Rod cutting problem- Unbounded Knapsack\n",
        "n=int(input())\n",
        "length=list(map(int,input().split()))\n",
        "price=list(map(int,input().split()))\n",
        "W=int(input())\n",
        "\n",
        "dp=[[0 for _ in range(W+1)]for __ in range(n+1)]\n",
        "\n",
        "for i in range(1,n+1):\n",
        "  for j in range(1,W+1):\n",
        "    if length[i-1]<=W:\n",
        "      dp[i][j]=max(dp[i-1][j],price[i-1]+dp[i][j-length[i-1]])\n",
        "    else:\n",
        "      dp[i][j]=dp[i-1][j]\n",
        "print(dp[n][W])"
      ],
      "execution_count": 3,
      "outputs": [
        {
          "output_type": "stream",
          "text": [
            "4\n",
            "1 2 3 4\n",
            "5 10 15 20\n",
            "3\n",
            "20\n"
          ],
          "name": "stdout"
        }
      ]
    },
    {
      "cell_type": "code",
      "metadata": {
        "id": "3J7vWq99lcjN",
        "colab_type": "code",
        "colab": {
          "base_uri": "https://localhost:8080/",
          "height": 51
        },
        "outputId": "f40b3de6-457c-49c6-a540-a3f23bb9340c"
      },
      "source": [
        "#Sieve of Eratosthenes\n",
        "\n",
        "n=int(input())\n",
        "l=[0 for _ in range(n+1)]\n",
        "l[2]=1\n",
        "for i in range(3,n+1,2):\n",
        "  l[i]=1\n",
        "\n",
        "for i in range(3,n+1,2):\n",
        "  if l[i]==1:\n",
        "    j=i*i\n",
        "    while(j<n+1):\n",
        "      l[j]=0\n",
        "      j+=i\n",
        "for ind,val in enumerate(l):\n",
        "  if val==1:\n",
        "    print(ind,end=\" \")"
      ],
      "execution_count": 2,
      "outputs": [
        {
          "output_type": "stream",
          "text": [
            "100\n",
            "2 3 5 7 11 13 17 19 23 29 31 37 41 43 47 53 59 61 67 71 73 79 83 89 97 "
          ],
          "name": "stdout"
        }
      ]
    },
    {
      "cell_type": "code",
      "metadata": {
        "id": "t6OMrv7JzlA2",
        "colab_type": "code",
        "colab": {
          "base_uri": "https://localhost:8080/",
          "height": 34
        },
        "outputId": "15087957-99d9-48ad-ed3f-9fc7cac4f91e"
      },
      "source": [
        "#find gcd\n",
        "def gcd(a,b):\n",
        "  if a%b==0:\n",
        "    return b \n",
        "  return gcd(b,a%b)\n",
        "\n",
        "gcd(30,6)"
      ],
      "execution_count": 9,
      "outputs": [
        {
          "output_type": "execute_result",
          "data": {
            "text/plain": [
              "6"
            ]
          },
          "metadata": {
            "tags": []
          },
          "execution_count": 9
        }
      ]
    },
    {
      "cell_type": "code",
      "metadata": {
        "id": "wYGuUr-j0YOW",
        "colab_type": "code",
        "colab": {
          "base_uri": "https://localhost:8080/",
          "height": 51
        },
        "outputId": "290e171f-2677-4169-a88a-34ed71726a45"
      },
      "source": [
        "#Longest Common Subsequence:-Top down with meoization\n",
        "\n",
        "def lcs(x,y,m,n):\n",
        "  if m==0 or n==0:\n",
        "    dp[m][n]=0\n",
        "    return dp[m][n]\n",
        "\n",
        "  if dp[m][n]!=-1:\n",
        "    return dp[m][n]\n",
        "\n",
        "  if x[m-1]==y[n-1]:\n",
        "    dp[m][n]=1+lcs(x,y,m-1,n-1)\n",
        "    return dp[m][n]\n",
        "  else:\n",
        "    dp[m][n]=max(lcs(x,y,m,n-1),lcs(x,y,m-1,n))\n",
        "    return dp[m][n]\n",
        "\n",
        "x,y=map(str,input().split())\n",
        "m,n=(len(x),len(y))\n",
        "dp=[[-1 for _ in range(n+1)]for __ in range(m+1)]\n",
        "lcs(x,y,m,n)\n",
        "\n"
      ],
      "execution_count": 20,
      "outputs": [
        {
          "output_type": "stream",
          "text": [
            "adcge ace\n"
          ],
          "name": "stdout"
        },
        {
          "output_type": "execute_result",
          "data": {
            "text/plain": [
              "3"
            ]
          },
          "metadata": {
            "tags": []
          },
          "execution_count": 20
        }
      ]
    },
    {
      "cell_type": "code",
      "metadata": {
        "id": "SLcICy_A_tGQ",
        "colab_type": "code",
        "colab": {
          "base_uri": "https://localhost:8080/",
          "height": 51
        },
        "outputId": "623e917d-f80e-4cde-f73a-da9b40736fff"
      },
      "source": [
        "#Longest Common Subsequence Bottom Up Aproach\n",
        "\n",
        "x,y=map(str,input().split())\n",
        "m,n=(len(x),len(y))\n",
        "dp=[[0 for _ in range(n+1)]for __ in range(m+1)]\n",
        "\n",
        "for i in range(1,m+1):\n",
        "  for j in range(1,n+1):\n",
        "    if x[i-1]==y[j-1]:\n",
        "      dp[i][j]=dp[i-1][j-1] + 1\n",
        "    else:\n",
        "      dp[i][j]=max(dp[i][j-1],dp[i-1][j])\n",
        "\n",
        "print(dp[m][n])"
      ],
      "execution_count": 24,
      "outputs": [
        {
          "output_type": "stream",
          "text": [
            "aeerstg jyuj\n",
            "0\n"
          ],
          "name": "stdout"
        }
      ]
    },
    {
      "cell_type": "code",
      "metadata": {
        "id": "zXECXiwoDeu1",
        "colab_type": "code",
        "colab": {}
      },
      "source": [
        ""
      ],
      "execution_count": 0,
      "outputs": []
    }
  ]
}